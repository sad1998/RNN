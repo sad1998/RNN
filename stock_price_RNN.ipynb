{
 "cells": [
  {
   "cell_type": "markdown",
   "metadata": {},
   "source": [
    "# Predicting Stock price using RNN\n",
    "\n",
    "Data: \n",
    "    * Google stock price data is used for this project"
   ]
  },
  {
   "cell_type": "code",
   "execution_count": 3,
   "metadata": {},
   "outputs": [],
   "source": [
    "#importing necessary libraries\n",
    "\n",
    "import numpy as np\n",
    "import pandas as pd\n",
    "import matplotlib.pyplot as plt\n",
    "import tensorflow as tf\n",
    "\n",
    "%matplotlib inline"
   ]
  },
  {
   "cell_type": "code",
   "execution_count": 5,
   "metadata": {},
   "outputs": [],
   "source": [
    "# reading in the training data\n",
    "\n",
    "train_data = pd.read_csv(\"Google_Stock_Price_Train.csv\")"
   ]
  },
  {
   "cell_type": "code",
   "execution_count": 11,
   "metadata": {},
   "outputs": [],
   "source": [
    "#creating a nummpy array from the Open stock price values. This is the value the model will be predicting\n",
    "\n",
    "training_set = train_data.loc[: , 'Open'].values"
   ]
  },
  {
   "cell_type": "code",
   "execution_count": 20,
   "metadata": {},
   "outputs": [],
   "source": [
    "training_set = training_set.reshape(1258,1)"
   ]
  },
  {
   "cell_type": "code",
   "execution_count": 21,
   "metadata": {},
   "outputs": [
    {
     "data": {
      "text/plain": [
       "(1258, 1)"
      ]
     },
     "execution_count": 21,
     "metadata": {},
     "output_type": "execute_result"
    }
   ],
   "source": [
    "training_set.shape"
   ]
  },
  {
   "cell_type": "code",
   "execution_count": 22,
   "metadata": {},
   "outputs": [],
   "source": [
    "# Feature Scaling - Normalising the values before feeding into the RNN\n",
    "\n",
    "from sklearn.preprocessing import MinMaxScaler\n",
    "\n",
    "scaler = MinMaxScaler()\n",
    "scaled_training_set = scaler.fit_transform(training_set)"
   ]
  },
  {
   "cell_type": "code",
   "execution_count": 31,
   "metadata": {},
   "outputs": [
    {
     "data": {
      "text/plain": [
       "array([[0.08581368],\n",
       "       [0.09701243],\n",
       "       [0.09433366],\n",
       "       ...,\n",
       "       [0.95725128],\n",
       "       [0.93796041],\n",
       "       [0.93688146]])"
      ]
     },
     "execution_count": 31,
     "metadata": {},
     "output_type": "execute_result"
    }
   ],
   "source": [
    "scaled_training_set"
   ]
  },
  {
   "cell_type": "code",
   "execution_count": 34,
   "metadata": {},
   "outputs": [],
   "source": [
    "# Selecting 60(Experimentally determined by few trial and error) timesteps for 1 output\n",
    "\n",
    "X_train = []\n",
    "y_train = []\n",
    "\n",
    "for i in range(60,1258):\n",
    "    X_train.append(scaled_training_set[i-60:i, 0])\n",
    "    y_train.append(scaled_training_set[i, 0])\n",
    "X_train, y_train = np.array(X_train), np.array(y_train)"
   ]
  },
  {
   "cell_type": "code",
   "execution_count": 36,
   "metadata": {},
   "outputs": [
    {
     "data": {
      "text/plain": [
       "array([0.08581368, 0.09701243, 0.09433366, 0.09156187, 0.07984225,\n",
       "       0.0643277 , 0.0585423 , 0.06568569, 0.06109085, 0.06639259,\n",
       "       0.0614257 , 0.07474514, 0.02797827, 0.02379269, 0.02409033,\n",
       "       0.0159238 , 0.01078949, 0.00967334, 0.01642607, 0.02100231,\n",
       "       0.02280676, 0.02273235, 0.02810849, 0.03212665, 0.0433812 ,\n",
       "       0.04475779, 0.04790163, 0.0440695 , 0.04648783, 0.04745517,\n",
       "       0.04873875, 0.03936305, 0.04137213, 0.04034898, 0.04784582,\n",
       "       0.04325099, 0.04356723, 0.04286033, 0.04602277, 0.05398467,\n",
       "       0.05738894, 0.05714711, 0.05569611, 0.04421832, 0.04514845,\n",
       "       0.04605997, 0.04412531, 0.03675869, 0.04486941, 0.05065481,\n",
       "       0.05214302, 0.05612397, 0.05818885, 0.06540665, 0.06882953,\n",
       "       0.07243843, 0.07993526, 0.07846566, 0.08034452, 0.08497656])"
      ]
     },
     "execution_count": 36,
     "metadata": {},
     "output_type": "execute_result"
    }
   ],
   "source": [
    "X_train[0]"
   ]
  },
  {
   "cell_type": "code",
   "execution_count": 37,
   "metadata": {},
   "outputs": [
    {
     "data": {
      "text/plain": [
       "array([0.08627874, 0.08471612, 0.07454052, ..., 0.95725128, 0.93796041,\n",
       "       0.93688146])"
      ]
     },
     "execution_count": 37,
     "metadata": {},
     "output_type": "execute_result"
    }
   ],
   "source": [
    "y_train"
   ]
  },
  {
   "cell_type": "code",
   "execution_count": 38,
   "metadata": {},
   "outputs": [
    {
     "data": {
      "text/plain": [
       "((1198, 60), (1198,))"
      ]
     },
     "execution_count": 38,
     "metadata": {},
     "output_type": "execute_result"
    }
   ],
   "source": [
    "X_train.shape , y_train.shape"
   ]
  },
  {
   "cell_type": "code",
   "execution_count": 39,
   "metadata": {},
   "outputs": [],
   "source": [
    "X_train = np.reshape(X_train, (X_train.shape[0], X_train.shape[1], 1))"
   ]
  },
  {
   "cell_type": "code",
   "execution_count": 41,
   "metadata": {},
   "outputs": [
    {
     "data": {
      "text/plain": [
       "(1198, 60, 1)"
      ]
     },
     "execution_count": 41,
     "metadata": {},
     "output_type": "execute_result"
    }
   ],
   "source": [
    "X_train.shape"
   ]
  },
  {
   "cell_type": "code",
   "execution_count": 42,
   "metadata": {},
   "outputs": [],
   "source": [
    "#importing necessary models and layers for building the RNN\n",
    "\n",
    "from tensorflow.keras.models import Sequential\n",
    "from tensorflow.keras.layers import Dense\n",
    "from tensorflow.keras.layers import LSTM\n",
    "from tensorflow.keras.layers import Dropout"
   ]
  },
  {
   "cell_type": "code",
   "execution_count": 43,
   "metadata": {},
   "outputs": [],
   "source": [
    "regressor = Sequential()"
   ]
  },
  {
   "cell_type": "code",
   "execution_count": 44,
   "metadata": {},
   "outputs": [],
   "source": [
    "# 4 LSTM(experimental) layers added along with Dropout layers to prevent overfitting\n",
    "\n",
    "regressor.add(LSTM(units = 50, return_sequences = True, input_shape = (X_train.shape[1],1)))\n",
    "regressor.add(Dropout(rate = 0.20))\n",
    "\n",
    "regressor.add(LSTM(units = 50, return_sequences = True))\n",
    "regressor.add(Dropout(rate = 0.20))\n",
    "\n",
    "regressor.add(LSTM(units = 50, return_sequences = True))\n",
    "regressor.add(Dropout(rate = 0.20))\n",
    "\n",
    "regressor.add(LSTM(units = 50))\n",
    "regressor.add(Dropout(rate = 0.20))"
   ]
  },
  {
   "cell_type": "code",
   "execution_count": 46,
   "metadata": {},
   "outputs": [],
   "source": [
    "# Fully connected dense layer that outputs a single predicted stock price\n",
    "\n",
    "regressor.add(Dense(units = 1))"
   ]
  },
  {
   "cell_type": "code",
   "execution_count": 47,
   "metadata": {},
   "outputs": [],
   "source": [
    "regressor.compile(optimizer= 'adam', loss = 'mean_squared_error')"
   ]
  },
  {
   "cell_type": "code",
   "execution_count": 48,
   "metadata": {},
   "outputs": [
    {
     "name": "stdout",
     "output_type": "stream",
     "text": [
      "Train on 1198 samples\n",
      "Epoch 1/100\n",
      "1198/1198 [==============================] - 6s 5ms/sample - loss: 0.0438\n",
      "Epoch 2/100\n",
      "1198/1198 [==============================] - 3s 3ms/sample - loss: 0.0064\n",
      "Epoch 3/100\n",
      "1198/1198 [==============================] - 3s 2ms/sample - loss: 0.0058\n",
      "Epoch 4/100\n",
      "1198/1198 [==============================] - 3s 2ms/sample - loss: 0.0052\n",
      "Epoch 5/100\n",
      "1198/1198 [==============================] - 3s 2ms/sample - loss: 0.0048\n",
      "Epoch 6/100\n",
      "1198/1198 [==============================] - 3s 2ms/sample - loss: 0.0062\n",
      "Epoch 7/100\n",
      "1198/1198 [==============================] - 3s 2ms/sample - loss: 0.0045\n",
      "Epoch 8/100\n",
      "1198/1198 [==============================] - 3s 2ms/sample - loss: 0.0040\n",
      "Epoch 9/100\n",
      "1198/1198 [==============================] - 3s 2ms/sample - loss: 0.0045\n",
      "Epoch 10/100\n",
      "1198/1198 [==============================] - 3s 2ms/sample - loss: 0.0042\n",
      "Epoch 11/100\n",
      "1198/1198 [==============================] - 3s 2ms/sample - loss: 0.0038\n",
      "Epoch 12/100\n",
      "1198/1198 [==============================] - 3s 2ms/sample - loss: 0.0040\n",
      "Epoch 13/100\n",
      "1198/1198 [==============================] - 3s 2ms/sample - loss: 0.0038\n",
      "Epoch 14/100\n",
      "1198/1198 [==============================] - 3s 2ms/sample - loss: 0.0040\n",
      "Epoch 15/100\n",
      "1198/1198 [==============================] - 3s 2ms/sample - loss: 0.0036\n",
      "Epoch 16/100\n",
      "1198/1198 [==============================] - 3s 3ms/sample - loss: 0.0041\n",
      "Epoch 17/100\n",
      "1198/1198 [==============================] - 3s 2ms/sample - loss: 0.0037\n",
      "Epoch 18/100\n",
      "1198/1198 [==============================] - 3s 2ms/sample - loss: 0.0043\n",
      "Epoch 19/100\n",
      "1198/1198 [==============================] - 3s 2ms/sample - loss: 0.0035\n",
      "Epoch 20/100\n",
      "1198/1198 [==============================] - 3s 2ms/sample - loss: 0.0036\n",
      "Epoch 21/100\n",
      "1198/1198 [==============================] - 3s 2ms/sample - loss: 0.0033\n",
      "Epoch 22/100\n",
      "1198/1198 [==============================] - 3s 2ms/sample - loss: 0.0033\n",
      "Epoch 23/100\n",
      "1198/1198 [==============================] - 3s 2ms/sample - loss: 0.0036\n",
      "Epoch 24/100\n",
      "1198/1198 [==============================] - 3s 2ms/sample - loss: 0.0038\n",
      "Epoch 25/100\n",
      "1198/1198 [==============================] - 3s 2ms/sample - loss: 0.0034\n",
      "Epoch 26/100\n",
      "1198/1198 [==============================] - 3s 2ms/sample - loss: 0.0031\n",
      "Epoch 27/100\n",
      "1198/1198 [==============================] - 3s 3ms/sample - loss: 0.0028\n",
      "Epoch 28/100\n",
      "1198/1198 [==============================] - 3s 2ms/sample - loss: 0.0028\n",
      "Epoch 29/100\n",
      "1198/1198 [==============================] - 3s 2ms/sample - loss: 0.0033\n",
      "Epoch 30/100\n",
      "1198/1198 [==============================] - 3s 2ms/sample - loss: 0.0032\n",
      "Epoch 31/100\n",
      "1198/1198 [==============================] - 3s 2ms/sample - loss: 0.0031\n",
      "Epoch 32/100\n",
      "1198/1198 [==============================] - 3s 2ms/sample - loss: 0.0030\n",
      "Epoch 33/100\n",
      "1198/1198 [==============================] - 3s 2ms/sample - loss: 0.0031\n",
      "Epoch 34/100\n",
      "1198/1198 [==============================] - 3s 2ms/sample - loss: 0.0030\n",
      "Epoch 35/100\n",
      "1198/1198 [==============================] - 3s 2ms/sample - loss: 0.0027\n",
      "Epoch 36/100\n",
      "1198/1198 [==============================] - 3s 2ms/sample - loss: 0.0028\n",
      "Epoch 37/100\n",
      "1198/1198 [==============================] - 3s 2ms/sample - loss: 0.0025\n",
      "Epoch 38/100\n",
      "1198/1198 [==============================] - 3s 2ms/sample - loss: 0.0028\n",
      "Epoch 39/100\n",
      "1198/1198 [==============================] - 3s 2ms/sample - loss: 0.0028\n",
      "Epoch 40/100\n",
      "1198/1198 [==============================] - 3s 2ms/sample - loss: 0.0026\n",
      "Epoch 41/100\n",
      "1198/1198 [==============================] - 3s 2ms/sample - loss: 0.0027\n",
      "Epoch 42/100\n",
      "1198/1198 [==============================] - 3s 2ms/sample - loss: 0.0025\n",
      "Epoch 43/100\n",
      "1198/1198 [==============================] - 3s 2ms/sample - loss: 0.0026\n",
      "Epoch 44/100\n",
      "1198/1198 [==============================] - 3s 2ms/sample - loss: 0.0024\n",
      "Epoch 45/100\n",
      "1198/1198 [==============================] - 3s 2ms/sample - loss: 0.0025\n",
      "Epoch 46/100\n",
      "1198/1198 [==============================] - 3s 2ms/sample - loss: 0.0025\n",
      "Epoch 47/100\n",
      "1198/1198 [==============================] - 3s 2ms/sample - loss: 0.0025\n",
      "Epoch 48/100\n",
      "1198/1198 [==============================] - 3s 2ms/sample - loss: 0.0026\n",
      "Epoch 49/100\n",
      "1198/1198 [==============================] - 3s 2ms/sample - loss: 0.0022\n",
      "Epoch 50/100\n",
      "1198/1198 [==============================] - 3s 2ms/sample - loss: 0.0026\n",
      "Epoch 51/100\n",
      "1198/1198 [==============================] - 3s 2ms/sample - loss: 0.0024\n",
      "Epoch 52/100\n",
      "1198/1198 [==============================] - 3s 3ms/sample - loss: 0.0023\n",
      "Epoch 53/100\n",
      "1198/1198 [==============================] - 3s 3ms/sample - loss: 0.0024\n",
      "Epoch 54/100\n",
      "1198/1198 [==============================] - 3s 2ms/sample - loss: 0.0021\n",
      "Epoch 55/100\n",
      "1198/1198 [==============================] - 3s 2ms/sample - loss: 0.0025\n",
      "Epoch 56/100\n",
      "1198/1198 [==============================] - 3s 2ms/sample - loss: 0.0026\n",
      "Epoch 57/100\n",
      "1198/1198 [==============================] - 3s 2ms/sample - loss: 0.0023\n",
      "Epoch 58/100\n",
      "1198/1198 [==============================] - 3s 2ms/sample - loss: 0.0021\n",
      "Epoch 59/100\n",
      "1198/1198 [==============================] - 3s 2ms/sample - loss: 0.0019\n",
      "Epoch 60/100\n",
      "1198/1198 [==============================] - 3s 2ms/sample - loss: 0.0021\n",
      "Epoch 61/100\n",
      "1198/1198 [==============================] - 3s 2ms/sample - loss: 0.0022\n",
      "Epoch 62/100\n",
      "1198/1198 [==============================] - 3s 2ms/sample - loss: 0.0024\n",
      "Epoch 63/100\n",
      "1198/1198 [==============================] - 3s 2ms/sample - loss: 0.0021\n",
      "Epoch 64/100\n",
      "1198/1198 [==============================] - 3s 2ms/sample - loss: 0.0018\n",
      "Epoch 65/100\n",
      "1198/1198 [==============================] - 3s 2ms/sample - loss: 0.0020\n",
      "Epoch 66/100\n",
      "1198/1198 [==============================] - 3s 2ms/sample - loss: 0.0020\n",
      "Epoch 67/100\n",
      "1198/1198 [==============================] - 3s 2ms/sample - loss: 0.0018\n",
      "Epoch 68/100\n",
      "1198/1198 [==============================] - 3s 2ms/sample - loss: 0.0020\n",
      "Epoch 69/100\n",
      "1198/1198 [==============================] - 3s 2ms/sample - loss: 0.0019\n",
      "Epoch 70/100\n",
      "1198/1198 [==============================] - 3s 2ms/sample - loss: 0.0017\n",
      "Epoch 71/100\n",
      "1198/1198 [==============================] - 3s 2ms/sample - loss: 0.0019\n",
      "Epoch 72/100\n",
      "1198/1198 [==============================] - 3s 2ms/sample - loss: 0.0017\n",
      "Epoch 73/100\n",
      "1198/1198 [==============================] - 3s 2ms/sample - loss: 0.0019\n",
      "Epoch 74/100\n",
      "1198/1198 [==============================] - 3s 2ms/sample - loss: 0.0019\n",
      "Epoch 75/100\n",
      "1198/1198 [==============================] - 3s 2ms/sample - loss: 0.0018\n",
      "Epoch 76/100\n",
      "1198/1198 [==============================] - 3s 2ms/sample - loss: 0.0017\n",
      "Epoch 77/100\n",
      "1198/1198 [==============================] - 3s 2ms/sample - loss: 0.0019\n",
      "Epoch 78/100\n",
      "1198/1198 [==============================] - 3s 2ms/sample - loss: 0.0019\n",
      "Epoch 79/100\n",
      "1198/1198 [==============================] - 3s 2ms/sample - loss: 0.0016\n",
      "Epoch 80/100\n",
      "1198/1198 [==============================] - 3s 2ms/sample - loss: 0.0017\n",
      "Epoch 81/100\n",
      "1198/1198 [==============================] - 3s 2ms/sample - loss: 0.0017\n",
      "Epoch 82/100\n",
      "1198/1198 [==============================] - 3s 2ms/sample - loss: 0.0016\n",
      "Epoch 83/100\n",
      "1198/1198 [==============================] - 3s 2ms/sample - loss: 0.0015\n",
      "Epoch 84/100\n",
      "1198/1198 [==============================] - 3s 2ms/sample - loss: 0.0016\n",
      "Epoch 85/100\n",
      "1198/1198 [==============================] - 3s 2ms/sample - loss: 0.0019\n",
      "Epoch 86/100\n",
      "1198/1198 [==============================] - 3s 2ms/sample - loss: 0.0017\n",
      "Epoch 87/100\n",
      "1198/1198 [==============================] - 3s 3ms/sample - loss: 0.0016\n",
      "Epoch 88/100\n",
      "1198/1198 [==============================] - 3s 2ms/sample - loss: 0.0015\n",
      "Epoch 89/100\n",
      "1198/1198 [==============================] - 3s 2ms/sample - loss: 0.0017\n",
      "Epoch 90/100\n",
      "1198/1198 [==============================] - 3s 2ms/sample - loss: 0.0015\n",
      "Epoch 91/100\n",
      "1198/1198 [==============================] - 3s 3ms/sample - loss: 0.0015\n",
      "Epoch 92/100\n",
      "1198/1198 [==============================] - 3s 2ms/sample - loss: 0.0016\n",
      "Epoch 93/100\n",
      "1198/1198 [==============================] - 3s 2ms/sample - loss: 0.0014\n",
      "Epoch 94/100\n",
      "1198/1198 [==============================] - 3s 2ms/sample - loss: 0.0016\n",
      "Epoch 95/100\n"
     ]
    },
    {
     "name": "stdout",
     "output_type": "stream",
     "text": [
      "1198/1198 [==============================] - 3s 2ms/sample - loss: 0.0016\n",
      "Epoch 96/100\n",
      "1198/1198 [==============================] - 3s 2ms/sample - loss: 0.0015\n",
      "Epoch 97/100\n",
      "1198/1198 [==============================] - 3s 2ms/sample - loss: 0.0015\n",
      "Epoch 98/100\n",
      "1198/1198 [==============================] - 3s 3ms/sample - loss: 0.0016\n",
      "Epoch 99/100\n",
      "1198/1198 [==============================] - 3s 2ms/sample - loss: 0.0015\n",
      "Epoch 100/100\n",
      "1198/1198 [==============================] - 3s 2ms/sample - loss: 0.0014\n"
     ]
    },
    {
     "data": {
      "text/plain": [
       "<tensorflow.python.keras.callbacks.History at 0x224369ba248>"
      ]
     },
     "execution_count": 48,
     "metadata": {},
     "output_type": "execute_result"
    }
   ],
   "source": [
    "# Fitting model to training sets. Parameters selected using trial and error.\n",
    "\n",
    "regressor.fit(X_train, y_train, epochs=100 , batch_size = 32 )"
   ]
  },
  {
   "cell_type": "code",
   "execution_count": 50,
   "metadata": {},
   "outputs": [],
   "source": [
    "# reading in the test data\n",
    "\n",
    "test_data = pd.read_csv('Google_Stock_Price_Test.csv')\n",
    "real_stock_price = test_data.loc[:, 'Open'].values"
   ]
  },
  {
   "cell_type": "code",
   "execution_count": 54,
   "metadata": {},
   "outputs": [],
   "source": [
    "real_stock_price = real_stock_price.reshape(20,1)"
   ]
  },
  {
   "cell_type": "code",
   "execution_count": 55,
   "metadata": {},
   "outputs": [
    {
     "data": {
      "text/plain": [
       "(20, 1)"
      ]
     },
     "execution_count": 55,
     "metadata": {},
     "output_type": "execute_result"
    }
   ],
   "source": [
    "real_stock_price.shape"
   ]
  },
  {
   "cell_type": "code",
   "execution_count": 67,
   "metadata": {},
   "outputs": [],
   "source": [
    "# Concatenating train and test datasets to create input dataset\n",
    "\n",
    "dataset_total = pd.concat((train_data['Open'], test_data['Open']), axis = 0)\n",
    "inputs = dataset_total[len(dataset_total) - len(test_data) - 60 : ].values"
   ]
  },
  {
   "cell_type": "code",
   "execution_count": 68,
   "metadata": {},
   "outputs": [
    {
     "data": {
      "text/plain": [
       "(80,)"
      ]
     },
     "execution_count": 68,
     "metadata": {},
     "output_type": "execute_result"
    }
   ],
   "source": [
    "inputs.shape"
   ]
  },
  {
   "cell_type": "code",
   "execution_count": 70,
   "metadata": {},
   "outputs": [],
   "source": [
    "inputs = inputs.reshape(-1,1)"
   ]
  },
  {
   "cell_type": "code",
   "execution_count": 71,
   "metadata": {},
   "outputs": [],
   "source": [
    "inputs = scaler.transform(inputs)"
   ]
  },
  {
   "cell_type": "code",
   "execution_count": 72,
   "metadata": {},
   "outputs": [],
   "source": [
    "X_test = []\n",
    "\n",
    "for i in range(60,80):\n",
    "    X_test.append(inputs[i-60:i, 0])\n",
    "X_test = np.array(X_test)"
   ]
  },
  {
   "cell_type": "code",
   "execution_count": 74,
   "metadata": {},
   "outputs": [
    {
     "data": {
      "text/plain": [
       "array([0.9299055 , 0.93113327, 0.92750577, 0.94415507, 0.93876032,\n",
       "       0.93403527, 0.93483518, 0.9313937 , 0.94636878, 0.96569685,\n",
       "       0.97510976, 0.95966962, 0.97808617, 1.        , 0.98076494,\n",
       "       0.97083116, 0.98450406, 0.96054394, 0.9371419 , 0.92841729,\n",
       "       0.90804747, 0.8771858 , 0.92153434, 0.93809063, 0.93165414,\n",
       "       0.95254483, 0.88812412, 0.88637547, 0.87032145, 0.88563137,\n",
       "       0.90743359, 0.91571173, 0.89941588, 0.91805566, 0.9089404 ,\n",
       "       0.9024853 , 0.89456061, 0.91600938, 0.9132934 , 0.88979835,\n",
       "       0.86589404, 0.89030062, 0.90335962, 0.89642086, 0.91777662,\n",
       "       0.93176576, 0.94114145, 0.95762334, 0.96413424, 0.96402262,\n",
       "       0.96971501, 0.95077759, 0.96294367, 0.96123223, 0.95475854,\n",
       "       0.95204256, 0.95163331, 0.95725128, 0.93796041, 0.93688146])"
      ]
     },
     "execution_count": 74,
     "metadata": {},
     "output_type": "execute_result"
    }
   ],
   "source": [
    "X_test[0]"
   ]
  },
  {
   "cell_type": "code",
   "execution_count": 75,
   "metadata": {},
   "outputs": [],
   "source": [
    "X_test = X_test.reshape(X_test.shape[0], X_test.shape[1], 1)"
   ]
  },
  {
   "cell_type": "code",
   "execution_count": 76,
   "metadata": {},
   "outputs": [
    {
     "data": {
      "text/plain": [
       "(20, 60, 1)"
      ]
     },
     "execution_count": 76,
     "metadata": {},
     "output_type": "execute_result"
    }
   ],
   "source": [
    "X_test.shape"
   ]
  },
  {
   "cell_type": "code",
   "execution_count": 85,
   "metadata": {},
   "outputs": [],
   "source": [
    "# Predicting using the model\n",
    "\n",
    "predicted_stock_price = regressor.predict(X_test)\n",
    "predicted_stock_price = scaler.inverse_transform(predicted_stock_price)"
   ]
  },
  {
   "cell_type": "code",
   "execution_count": 94,
   "metadata": {},
   "outputs": [
    {
     "data": {
      "image/png": "[encoded data removed]",
      "text/plain": [
       "<Figure size 864x576 with 1 Axes>"
      ]
     },
     "metadata": {
      "needs_background": "light"
     },
     "output_type": "display_data"
    }
   ],
   "source": [
    "# Visual comparison between real stock prices and predicted stock prices\n",
    "\n",
    "plt.figure(figsize=(12,8))\n",
    "plt.plot(real_stock_price, color = 'Red', label = 'REAL GOOGLE STOCK PRICE')\n",
    "plt.plot(predicted_stock_price, color = 'Blue', label = 'PREDICTED GOOGLE STOCK PRICE')\n",
    "plt.title('GOOGLE STOCK PRICE PREDICTIONS')\n",
    "plt.xlabel('Time')\n",
    "plt.ylabel('Stock Price')\n",
    "plt.legend()\n",
    "plt.show()"
   ]
  },
  {
   "cell_type": "markdown",
   "metadata": {},
   "source": [
    "##                                                        THE END"
   ]
  }
 ],
 "metadata": {
  "kernelspec": {
   "display_name": "Python 3",
   "language": "python",
   "name": "python3"
  },
  "language_info": {
   "codemirror_mode": {
    "name": "ipython",
    "version": 3
   },
   "file_extension": ".py",
   "mimetype": "text/x-python",
   "name": "python",
   "nbconvert_exporter": "python",
   "pygments_lexer": "ipython3",
   "version": "3.7.7"
  }
 },
 "nbformat": 4,
 "nbformat_minor": 4
}
